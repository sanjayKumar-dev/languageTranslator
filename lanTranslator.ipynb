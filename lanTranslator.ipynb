{
  "nbformat": 4,
  "nbformat_minor": 0,
  "metadata": {
    "colab": {
      "name": "lanTranslator.ipynb",
      "provenance": [],
      "authorship_tag": "ABX9TyNQ6/DDEqJ5uWQeZTQKDiT4",
      "include_colab_link": true
    },
    "kernelspec": {
      "name": "python3",
      "display_name": "Python 3"
    },
    "language_info": {
      "name": "python"
    }
  },
  "cells": [
    {
      "cell_type": "markdown",
      "metadata": {
        "id": "view-in-github",
        "colab_type": "text"
      },
      "source": [
        "<a href=\"https://colab.research.google.com/github/sanjayKumar-dev/languageTranslator/blob/main/lanTranslator.ipynb\" target=\"_parent\"><img src=\"https://colab.research.google.com/assets/colab-badge.svg\" alt=\"Open In Colab\"/></a>"
      ]
    },
    {
      "cell_type": "code",
      "metadata": {
        "id": "dBbcpmysu1cK"
      },
      "source": [
        "import numpy as np\n",
        "from keras.models import Model\n",
        "from keras.layers import Input, LSTM, Dense\n",
        "from keras.utils import *\n",
        "from keras.initializers import *\n",
        "import tensorflow as tf\n",
        "import time, random\n",
        "from tensorflow.keras.optimizers import Adam, SGD, RMSprop"
      ],
      "execution_count": 1,
      "outputs": []
    },
    {
      "cell_type": "code",
      "metadata": {
        "id": "TDiM0BAFv5sz"
      },
      "source": [
        "batch_size = 64\n",
        "latent_dim = 256\n",
        "num_samples = 10000"
      ],
      "execution_count": 2,
      "outputs": []
    },
    {
      "cell_type": "code",
      "metadata": {
        "colab": {
          "base_uri": "https://localhost:8080/"
        },
        "id": "Wn1uUY5uwAw3",
        "outputId": "1cbd568c-ccc1-4926-b2f4-e3f38518872a"
      },
      "source": [
        "input_texts = []\n",
        "target_texts = []\n",
        "input_chars = set()\n",
        "target_chars = set()\n",
        "\n",
        "with open('fra.txt', 'r', encoding='utf-8') as f:\n",
        "    lines = f.read().split('\\n')\n",
        "for line in lines[: min(num_samples, len(lines) - 1)]:\n",
        "    input_text, target_text = line.split('\\t')\n",
        "    target_text = '\\t' + target_text + '\\n'\n",
        "    input_texts.append(input_text)\n",
        "    target_texts.append(target_text)\n",
        "    for char in input_text:\n",
        "        if char not in input_chars:\n",
        "            input_chars.add(char)\n",
        "    for char in target_text:\n",
        "        if char not in target_chars:\n",
        "            target_chars.add(char)\n",
        "\n",
        "input_chars = sorted(list(input_chars))\n",
        "target_chars = sorted(list(target_chars))\n",
        "num_encoder_tokens = len(input_chars)\n",
        "num_decoder_tokens = len(target_chars)\n",
        "max_encoder_seq_length = max([len(txt) for txt in input_texts])\n",
        "max_decoder_seq_length = max([len(txt) for txt in target_texts])\n",
        "\n",
        "#Print size\n",
        "print('Number of samples:', len(input_texts))\n",
        "print('Number of unique input tokens:', num_encoder_tokens)\n",
        "print('Number of unique output tokens:', num_decoder_tokens)\n",
        "print('Max sequence length for inputs:', max_encoder_seq_length)\n",
        "print('Max sequence length for outputs:', max_decoder_seq_length)"
      ],
      "execution_count": 3,
      "outputs": [
        {
          "output_type": "stream",
          "name": "stdout",
          "text": [
            "Number of samples: 10000\n",
            "Number of unique input tokens: 71\n",
            "Number of unique output tokens: 93\n",
            "Max sequence length for inputs: 16\n",
            "Max sequence length for outputs: 59\n"
          ]
        }
      ]
    },
    {
      "cell_type": "code",
      "metadata": {
        "id": "qz2xv4dHwF0H"
      },
      "source": [
        "input_token_id = dict([(char, i) for i, char in enumerate(input_chars)])\n",
        "target_token_id = dict([(char, i) for i, char in enumerate(target_chars)])\n",
        "\n",
        "encoder_in_data = np.zeros((len(input_texts), max_encoder_seq_length, num_encoder_tokens), dtype='float32')\n",
        "\n",
        "decoder_in_data = np.zeros((len(input_texts), max_decoder_seq_length, num_decoder_tokens), dtype='float32')\n",
        "\n",
        "decoder_target_data = np.zeros((len(input_texts), max_decoder_seq_length, num_decoder_tokens), dtype='float32')\n",
        "\n",
        "for i, (input_text, target_text) in enumerate(zip(input_texts, target_texts)):\n",
        "    for t, char in enumerate(input_text):\n",
        "        encoder_in_data[i, t, input_token_id[char]] = 1.\n",
        "    for t, char in enumerate(target_text):\n",
        "        decoder_in_data[i, t, target_token_id[char]] = 1.\n",
        "        if t > 0:\n",
        "            decoder_target_data[i, t - 1, target_token_id[char]] = 1."
      ],
      "execution_count": 4,
      "outputs": []
    },
    {
      "cell_type": "code",
      "metadata": {
        "id": "fySFhThnwLgE"
      },
      "source": [
        "encoder_inputs = Input(shape=(None, num_encoder_tokens))\n",
        "encoder = LSTM(latent_dim, return_state=True)\n",
        "encoder_outputs, state_h, state_c = encoder(encoder_inputs)\n",
        "#We discard `encoder_outputs` and only keep the states.\n",
        "encoder_states = [state_h, state_c]\n",
        "\n",
        "#Using `encoder_states` set up the decoder as initial state.\n",
        "decoder_inputs = Input(shape=(None, num_decoder_tokens))\n",
        "decoder_lstm = LSTM(latent_dim, return_sequences=True, return_state=True)\n",
        "decoder_outputs, _, _ = decoder_lstm(decoder_inputs, initial_state=encoder_states)\n",
        "decoder_dense = Dense(num_decoder_tokens, activation='softmax')\n",
        "decoder_outputs = decoder_dense(decoder_outputs)"
      ],
      "execution_count": 5,
      "outputs": []
    },
    {
      "cell_type": "code",
      "metadata": {
        "colab": {
          "base_uri": "https://localhost:8080/"
        },
        "id": "1l22GKxuwPni",
        "outputId": "8234305b-e43e-43d9-9161-0114f0e9b808"
      },
      "source": [
        "model = Model([encoder_inputs, decoder_inputs], decoder_outputs)\n",
        "model.summary()"
      ],
      "execution_count": 6,
      "outputs": [
        {
          "output_type": "stream",
          "name": "stdout",
          "text": [
            "Model: \"model\"\n",
            "__________________________________________________________________________________________________\n",
            " Layer (type)                   Output Shape         Param #     Connected to                     \n",
            "==================================================================================================\n",
            " input_1 (InputLayer)           [(None, None, 71)]   0           []                               \n",
            "                                                                                                  \n",
            " input_2 (InputLayer)           [(None, None, 93)]   0           []                               \n",
            "                                                                                                  \n",
            " lstm (LSTM)                    [(None, 256),        335872      ['input_1[0][0]']                \n",
            "                                 (None, 256),                                                     \n",
            "                                 (None, 256)]                                                     \n",
            "                                                                                                  \n",
            " lstm_1 (LSTM)                  [(None, None, 256),  358400      ['input_2[0][0]',                \n",
            "                                 (None, 256),                     'lstm[0][1]',                   \n",
            "                                 (None, 256)]                     'lstm[0][2]']                   \n",
            "                                                                                                  \n",
            " dense (Dense)                  (None, None, 93)     23901       ['lstm_1[0][0]']                 \n",
            "                                                                                                  \n",
            "==================================================================================================\n",
            "Total params: 718,173\n",
            "Trainable params: 718,173\n",
            "Non-trainable params: 0\n",
            "__________________________________________________________________________________________________\n"
          ]
        }
      ]
    },
    {
      "cell_type": "code",
      "metadata": {
        "colab": {
          "base_uri": "https://localhost:8080/"
        },
        "id": "y2eUbAaUwVoX",
        "outputId": "78eb1ed0-ecee-455a-ad2c-3007916a4fdc"
      },
      "source": [
        "print(\"encoder_in_data shape:\",encoder_in_data.shape)\n",
        "print(\"decoder_in_data shape:\",decoder_in_data.shape)\n",
        "print(\"decoder_target_data shape:\",decoder_target_data.shape)"
      ],
      "execution_count": 7,
      "outputs": [
        {
          "output_type": "stream",
          "name": "stdout",
          "text": [
            "encoder_in_data shape: (10000, 16, 71)\n",
            "decoder_in_data shape: (10000, 59, 93)\n",
            "decoder_target_data shape: (10000, 59, 93)\n"
          ]
        }
      ]
    },
    {
      "cell_type": "code",
      "metadata": {
        "colab": {
          "base_uri": "https://localhost:8080/"
        },
        "id": "S4Tb-D8awZa4",
        "outputId": "61c08e78-dfc3-4418-a359-349a1cc45a30"
      },
      "source": [
        "model.compile(optimizer=Adam(lr=0.01, beta_1=0.9, beta_2=0.999, decay=0.001), loss='categorical_crossentropy')\n",
        "\n",
        "model.fit([encoder_in_data, decoder_in_data], decoder_target_data, batch_size = batch_size, epochs=50, validation_split=0.2)"
      ],
      "execution_count": 8,
      "outputs": [
        {
          "output_type": "stream",
          "name": "stderr",
          "text": [
            "/usr/local/lib/python3.7/dist-packages/keras/optimizer_v2/adam.py:105: UserWarning: The `lr` argument is deprecated, use `learning_rate` instead.\n",
            "  super(Adam, self).__init__(name, **kwargs)\n"
          ]
        },
        {
          "output_type": "stream",
          "name": "stdout",
          "text": [
            "Epoch 1/50\n",
            "125/125 [==============================] - 58s 430ms/step - loss: 0.9515 - val_loss: 1.0450\n",
            "Epoch 2/50\n",
            "125/125 [==============================] - 54s 433ms/step - loss: 0.8425 - val_loss: 0.9866\n",
            "Epoch 3/50\n",
            "125/125 [==============================] - 55s 440ms/step - loss: 0.7866 - val_loss: 0.9472\n",
            "Epoch 4/50\n",
            "125/125 [==============================] - 54s 433ms/step - loss: 0.7550 - val_loss: 0.9079\n",
            "Epoch 5/50\n",
            "125/125 [==============================] - 54s 430ms/step - loss: 0.7150 - val_loss: 0.8765\n",
            "Epoch 6/50\n",
            "125/125 [==============================] - 54s 433ms/step - loss: 0.7615 - val_loss: 1.2103\n",
            "Epoch 7/50\n",
            "125/125 [==============================] - 55s 438ms/step - loss: 0.9812 - val_loss: 1.1338\n",
            "Epoch 8/50\n",
            "125/125 [==============================] - 54s 428ms/step - loss: 0.9458 - val_loss: 1.1051\n",
            "Epoch 9/50\n",
            "125/125 [==============================] - 53s 428ms/step - loss: 0.9288 - val_loss: 1.1001\n",
            "Epoch 10/50\n",
            "125/125 [==============================] - 54s 434ms/step - loss: 0.9139 - val_loss: 1.0769\n",
            "Epoch 11/50\n",
            "125/125 [==============================] - 56s 450ms/step - loss: 0.8988 - val_loss: 1.0638\n",
            "Epoch 12/50\n",
            "125/125 [==============================] - 53s 422ms/step - loss: 0.8865 - val_loss: 1.0491\n",
            "Epoch 13/50\n",
            "125/125 [==============================] - 54s 430ms/step - loss: 0.8758 - val_loss: 1.0435\n",
            "Epoch 14/50\n",
            "125/125 [==============================] - 53s 425ms/step - loss: 0.8678 - val_loss: 1.0297\n",
            "Epoch 15/50\n",
            "125/125 [==============================] - 55s 438ms/step - loss: 0.8582 - val_loss: 1.0228\n",
            "Epoch 16/50\n",
            "125/125 [==============================] - 54s 429ms/step - loss: 0.8501 - val_loss: 1.0144\n",
            "Epoch 17/50\n",
            "125/125 [==============================] - 54s 433ms/step - loss: 0.8438 - val_loss: 1.0094\n",
            "Epoch 18/50\n",
            "125/125 [==============================] - 56s 451ms/step - loss: 0.8359 - val_loss: 0.9989\n",
            "Epoch 19/50\n",
            "125/125 [==============================] - 54s 431ms/step - loss: 0.8299 - val_loss: 0.9948\n",
            "Epoch 20/50\n",
            "125/125 [==============================] - 53s 422ms/step - loss: 0.8241 - val_loss: 0.9901\n",
            "Epoch 21/50\n",
            "125/125 [==============================] - 54s 435ms/step - loss: 0.8177 - val_loss: 0.9802\n",
            "Epoch 22/50\n",
            "125/125 [==============================] - 54s 431ms/step - loss: 0.8112 - val_loss: 0.9756\n",
            "Epoch 23/50\n",
            "125/125 [==============================] - 54s 432ms/step - loss: 0.8052 - val_loss: 0.9750\n",
            "Epoch 24/50\n",
            "125/125 [==============================] - 53s 423ms/step - loss: 0.7978 - val_loss: 0.9621\n",
            "Epoch 25/50\n",
            "125/125 [==============================] - 55s 441ms/step - loss: 0.7911 - val_loss: 0.9494\n",
            "Epoch 26/50\n",
            "125/125 [==============================] - 54s 429ms/step - loss: 0.7846 - val_loss: 0.9397\n",
            "Epoch 27/50\n",
            "125/125 [==============================] - 55s 437ms/step - loss: 0.7899 - val_loss: 0.9651\n",
            "Epoch 28/50\n",
            "125/125 [==============================] - 54s 432ms/step - loss: 0.7915 - val_loss: 0.9592\n",
            "Epoch 29/50\n",
            "125/125 [==============================] - 55s 438ms/step - loss: 0.7821 - val_loss: 0.9574\n",
            "Epoch 30/50\n",
            "125/125 [==============================] - 55s 437ms/step - loss: 0.7718 - val_loss: 0.9339\n",
            "Epoch 31/50\n",
            "125/125 [==============================] - 56s 451ms/step - loss: 0.7616 - val_loss: 0.9324\n",
            "Epoch 32/50\n",
            "125/125 [==============================] - 55s 439ms/step - loss: 0.7536 - val_loss: 0.9184\n",
            "Epoch 33/50\n",
            "125/125 [==============================] - 55s 439ms/step - loss: 0.7436 - val_loss: 0.9007\n",
            "Epoch 34/50\n",
            "125/125 [==============================] - 56s 447ms/step - loss: 0.7361 - val_loss: 0.8967\n",
            "Epoch 35/50\n",
            "125/125 [==============================] - 55s 441ms/step - loss: 0.7275 - val_loss: 0.8881\n",
            "Epoch 36/50\n",
            "125/125 [==============================] - 54s 430ms/step - loss: 0.7216 - val_loss: 0.8777\n",
            "Epoch 37/50\n",
            "125/125 [==============================] - 55s 442ms/step - loss: 0.7135 - val_loss: 0.8602\n",
            "Epoch 38/50\n",
            "125/125 [==============================] - 54s 429ms/step - loss: 0.7084 - val_loss: 0.8702\n",
            "Epoch 39/50\n",
            "125/125 [==============================] - 54s 434ms/step - loss: 0.7019 - val_loss: 0.8573\n",
            "Epoch 40/50\n",
            "125/125 [==============================] - 54s 434ms/step - loss: 0.6959 - val_loss: 0.8543\n",
            "Epoch 41/50\n",
            "125/125 [==============================] - 54s 433ms/step - loss: 0.6908 - val_loss: 0.8412\n",
            "Epoch 42/50\n",
            "125/125 [==============================] - 54s 432ms/step - loss: 0.6855 - val_loss: 0.8332\n",
            "Epoch 43/50\n",
            "125/125 [==============================] - 54s 435ms/step - loss: 0.6803 - val_loss: 0.8369\n",
            "Epoch 44/50\n",
            "125/125 [==============================] - 57s 457ms/step - loss: 0.6743 - val_loss: 0.8298\n",
            "Epoch 45/50\n",
            "125/125 [==============================] - 56s 447ms/step - loss: 0.6693 - val_loss: 0.8186\n",
            "Epoch 46/50\n",
            "125/125 [==============================] - 55s 443ms/step - loss: 0.6630 - val_loss: 0.8112\n",
            "Epoch 47/50\n",
            "125/125 [==============================] - 54s 431ms/step - loss: 0.6576 - val_loss: 0.8093\n",
            "Epoch 48/50\n",
            "125/125 [==============================] - 55s 442ms/step - loss: 0.6514 - val_loss: 0.8053\n",
            "Epoch 49/50\n",
            "125/125 [==============================] - 57s 453ms/step - loss: 0.6479 - val_loss: 0.8051\n",
            "Epoch 50/50\n",
            "125/125 [==============================] - 53s 425ms/step - loss: 0.6437 - val_loss: 0.7965\n"
          ]
        },
        {
          "output_type": "execute_result",
          "data": {
            "text/plain": [
              "<keras.callbacks.History at 0x7f8d51238110>"
            ]
          },
          "metadata": {},
          "execution_count": 8
        }
      ]
    },
    {
      "cell_type": "code",
      "metadata": {
        "id": "k-1eO2yYwjC6"
      },
      "source": [
        "encoder_model = Model(encoder_inputs, encoder_states)\n",
        "decoder_state_input_h = Input(shape=(latent_dim,))\n",
        "decoder_state_input_c = Input(shape=(latent_dim,))\n",
        "decoder_states_inputs = [decoder_state_input_h, decoder_state_input_c]\n",
        "decoder_outputs, state_h, state_c = decoder_lstm(decoder_inputs, initial_state=decoder_states_inputs)\n",
        "decoder_states = [state_h, state_c]\n",
        "decoder_outputs = decoder_dense(decoder_outputs)\n",
        "decoder_model = Model([decoder_inputs] + decoder_states_inputs, [decoder_outputs] + decoder_states)"
      ],
      "execution_count": 9,
      "outputs": []
    },
    {
      "cell_type": "code",
      "metadata": {
        "id": "h1nVp2Ih7WQq"
      },
      "source": [
        "reverse_input_char_index = dict((i, char) for char, i in input_token_id.items())\n",
        "reverse_target_char_index = dict((i, char) for char, i in target_token_id.items())\n",
        "\n",
        "#Define Decode Sequence\n",
        "def decode_sequence(input_seq):\n",
        "    #Encode the input as state vectors.\n",
        "    states_value = encoder_model.predict(input_seq)\n",
        "\n",
        "    #Generate empty target sequence of length 1.\n",
        "    target_seq = np.zeros((1, 1, num_decoder_tokens))\n",
        "    #Get the first character of target sequence with the start character.\n",
        "    target_seq[0, 0, target_token_id['\\t']] = 1.\n",
        "\n",
        "    #Sampling loop for a batch of sequences\n",
        "    #(to simplify, here we assume a batch of size 1).\n",
        "    stop_condition = False\n",
        "    decoded_sentence = ''\n",
        "    while not stop_condition:\n",
        "        output_tokens, h, c = decoder_model.predict([target_seq] + states_value)\n",
        "\n",
        "        #Sample a token\n",
        "        sampled_token_index = np.argmax(output_tokens[0, -1, :])\n",
        "        sampled_char = reverse_target_char_index[sampled_token_index]\n",
        "        decoded_sentence += sampled_char\n",
        "\n",
        "        #Exit condition: either hit max length\n",
        "        #or find stop character.\n",
        "        if (sampled_char == '\\n' or\n",
        "           len(decoded_sentence) > max_decoder_seq_length):\n",
        "            stop_condition = True\n",
        "\n",
        "        #Update the target sequence (of length 1).\n",
        "        target_seq = np.zeros((1, 1, num_decoder_tokens))\n",
        "        target_seq[0, 0, sampled_token_index] = 1.\n",
        "\n",
        "        #Update states\n",
        "        states_value = [h, c]\n",
        "\n",
        "    return decoded_sentence"
      ],
      "execution_count": 10,
      "outputs": []
    },
    {
      "cell_type": "code",
      "metadata": {
        "colab": {
          "base_uri": "https://localhost:8080/"
        },
        "id": "UeN4G4Lm7b1E",
        "outputId": "e81edf48-2603-4b24-95da-12a85fc18407"
      },
      "source": [
        "for seq_index in range(10):\n",
        "    input_seq = encoder_in_data[seq_index: seq_index + 1]\n",
        "    decoded_sentence = decode_sequence(input_seq)\n",
        "    print('-')\n",
        "    print('Input sentence:', input_texts[seq_index])\n",
        "    print('Decoded sentence:', decoded_sentence)"
      ],
      "execution_count": 12,
      "outputs": [
        {
          "output_type": "stream",
          "name": "stdout",
          "text": [
            "-\n",
            "Input sentence: Go.\n",
            "Decoded sentence: Il est coure  pas pas e pas  pas  pa la     pa la     pa la \n",
            "-\n",
            "Input sentence: Run!\n",
            "Decoded sentence: Il est me pas pas pas pas pas pas pas  pas  pa la     pa la \n",
            "-\n",
            "Input sentence: Run!\n",
            "Decoded sentence: Il est me pas pas pas pas pas pas pas  pas  pa la     pa la \n",
            "-\n",
            "Input sentence: Wow!\n",
            "Decoded sentence: Nous somme pas pas pas pas pas pas pas  cou  pa pa  pa la   \n",
            "-\n",
            "Input sentence: Fire!\n",
            "Decoded sentence: Il est parte  pas pas pas pas pas  cou   pa pa  pa la     pa\n",
            "-\n",
            "Input sentence: Help!\n",
            "Decoded sentence: Il est me pas pas pas pas pas pas pas  cou   pa la     pa la\n",
            "-\n",
            "Input sentence: Jump.\n",
            "Decoded sentence: Il est cous e pas cous e pas  cou   pa la     pa la     pa l\n",
            "-\n",
            "Input sentence: Stop!\n",
            "Decoded sentence: C'est un cous e pas pas pas pas pas  pas  pa pa   pa la     \n",
            "-\n",
            "Input sentence: Stop!\n",
            "Decoded sentence: C'est un cous e pas pas pas pas pas  pas  pa pa   pa la     \n",
            "-\n",
            "Input sentence: Stop!\n",
            "Decoded sentence: C'est un cous e pas pas pas pas pas  pas  pa pa   pa la     \n"
          ]
        }
      ]
    },
    {
      "cell_type": "code",
      "metadata": {
        "id": "1Zd3ME8y7grb"
      },
      "source": [
        ""
      ],
      "execution_count": null,
      "outputs": []
    }
  ]
}