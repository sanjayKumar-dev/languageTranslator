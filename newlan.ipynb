{
  "nbformat": 4,
  "nbformat_minor": 0,
  "metadata": {
    "colab": {
      "name": "newlan.ipynb",
      "provenance": [],
      "include_colab_link": true
    },
    "kernelspec": {
      "name": "python3",
      "display_name": "Python 3"
    },
    "language_info": {
      "name": "python"
    }
  },
  "cells": [
    {
      "cell_type": "markdown",
      "metadata": {
        "id": "view-in-github",
        "colab_type": "text"
      },
      "source": [
        "<a href=\"https://colab.research.google.com/github/sanjayKumar-dev/languageTranslator/blob/main/newlan.ipynb\" target=\"_parent\"><img src=\"https://colab.research.google.com/assets/colab-badge.svg\" alt=\"Open In Colab\"/></a>"
      ]
    },
    {
      "cell_type": "code",
      "metadata": {
        "id": "1ZFBI4OOVUdr"
      },
      "source": [
        "import numpy as np\n",
        "from keras.models import Model\n",
        "from keras.layers import Input, LSTM, Dense\n",
        "from keras.utils import *\n",
        "from keras.initializers import *\n",
        "import tensorflow as tf\n",
        "import time, random\n",
        "from tensorflow.keras.optimizers import Adam, SGD, RMSprop"
      ],
      "execution_count": null,
      "outputs": []
    },
    {
      "cell_type": "code",
      "metadata": {
        "id": "gm5txvyzWiua"
      },
      "source": [
        "batch_size = 64\n",
        "latent_dim = 256\n",
        "num_samples = 20000"
      ],
      "execution_count": null,
      "outputs": []
    },
    {
      "cell_type": "code",
      "metadata": {
        "colab": {
          "base_uri": "https://localhost:8080/"
        },
        "id": "RGvs0BP3WovG",
        "outputId": "356285cd-c6e2-43ad-af9d-90a012726c35"
      },
      "source": [
        "input_texts = []\n",
        "target_texts = []\n",
        "input_chars = set()\n",
        "target_chars = set()\n",
        "\n",
        "with open('fra.txt', 'r', encoding='utf-8') as f:\n",
        "    lines = f.read().split('\\n')\n",
        "for line in lines[: min(num_samples, len(lines) - 1)]:\n",
        "    input_text, target_text = line.split('\\t')\n",
        "    target_text = '\\t' + target_text + '\\n'\n",
        "    input_texts.append(input_text)\n",
        "    target_texts.append(target_text)\n",
        "    for char in input_text:\n",
        "        if char not in input_chars:\n",
        "            input_chars.add(char)\n",
        "    for char in target_text:\n",
        "        if char not in target_chars:\n",
        "            target_chars.add(char)\n",
        "\n",
        "input_chars = sorted(list(input_chars))\n",
        "target_chars = sorted(list(target_chars))\n",
        "num_encoder_tokens = len(input_chars)\n",
        "num_decoder_tokens = len(target_chars)\n",
        "max_encoder_seq_length = max([len(txt) for txt in input_texts])\n",
        "max_decoder_seq_length = max([len(txt) for txt in target_texts])\n",
        "\n",
        "#Print size\n",
        "print('Number of samples:', len(input_texts))\n",
        "print('Number of unique input tokens:', num_encoder_tokens)\n",
        "print('Number of unique output tokens:', num_decoder_tokens)\n",
        "print('Max sequence length for inputs:', max_encoder_seq_length)\n",
        "print('Max sequence length for outputs:', max_decoder_seq_length)"
      ],
      "execution_count": null,
      "outputs": [
        {
          "output_type": "stream",
          "name": "stdout",
          "text": [
            "Number of samples: 20000\n",
            "Number of unique input tokens: 74\n",
            "Number of unique output tokens: 102\n",
            "Max sequence length for inputs: 19\n",
            "Max sequence length for outputs: 59\n"
          ]
        }
      ]
    },
    {
      "cell_type": "code",
      "metadata": {
        "id": "XQNSd9KeWs7_"
      },
      "source": [
        "input_token_id = dict([(char, i) for i, char in enumerate(input_chars)])\n",
        "target_token_id = dict([(char, i) for i, char in enumerate(target_chars)])\n",
        "\n",
        "encoder_in_data = np.zeros((len(input_texts), max_encoder_seq_length, num_encoder_tokens), dtype='float32')\n",
        "\n",
        "decoder_in_data = np.zeros((len(input_texts), max_decoder_seq_length, num_decoder_tokens), dtype='float32')\n",
        "\n",
        "decoder_target_data = np.zeros((len(input_texts), max_decoder_seq_length, num_decoder_tokens), dtype='float32')\n",
        "\n",
        "for i, (input_text, target_text) in enumerate(zip(input_texts, target_texts)):\n",
        "    for t, char in enumerate(input_text):\n",
        "        encoder_in_data[i, t, input_token_id[char]] = 1.\n",
        "    for t, char in enumerate(target_text):\n",
        "        decoder_in_data[i, t, target_token_id[char]] = 1.\n",
        "        if t > 0:\n",
        "            decoder_target_data[i, t - 1, target_token_id[char]] = 1."
      ],
      "execution_count": null,
      "outputs": []
    },
    {
      "cell_type": "code",
      "metadata": {
        "id": "RRq0qnQ6WxCV"
      },
      "source": [
        "encoder_inputs = Input(shape=(None, num_encoder_tokens))\n",
        "encoder = LSTM(latent_dim, return_state=True)\n",
        "encoder_outputs, state_h, state_c = encoder(encoder_inputs)\n",
        "\n",
        "encoder_states = [state_h, state_c]\n",
        "\n",
        "\n",
        "decoder_inputs = Input(shape=(None, num_decoder_tokens))\n",
        "decoder_lstm = LSTM(latent_dim, return_sequences=True, return_state=True)\n",
        "decoder_outputs, _, _ = decoder_lstm(decoder_inputs, initial_state=encoder_states)\n",
        "decoder_dense = Dense(num_decoder_tokens, activation='softmax')\n",
        "decoder_outputs = decoder_dense(decoder_outputs)"
      ],
      "execution_count": null,
      "outputs": []
    },
    {
      "cell_type": "code",
      "metadata": {
        "colab": {
          "base_uri": "https://localhost:8080/"
        },
        "id": "uSZ7RTaFWz3e",
        "outputId": "2d72ca23-8212-4460-a298-e6a3213464fc"
      },
      "source": [
        "model = Model([encoder_inputs, decoder_inputs], decoder_outputs)\n",
        "model.summary()"
      ],
      "execution_count": null,
      "outputs": [
        {
          "output_type": "stream",
          "name": "stdout",
          "text": [
            "Model: \"model\"\n",
            "__________________________________________________________________________________________________\n",
            " Layer (type)                   Output Shape         Param #     Connected to                     \n",
            "==================================================================================================\n",
            " input_1 (InputLayer)           [(None, None, 74)]   0           []                               \n",
            "                                                                                                  \n",
            " input_2 (InputLayer)           [(None, None, 102)]  0           []                               \n",
            "                                                                                                  \n",
            " lstm (LSTM)                    [(None, 256),        338944      ['input_1[0][0]']                \n",
            "                                 (None, 256),                                                     \n",
            "                                 (None, 256)]                                                     \n",
            "                                                                                                  \n",
            " lstm_1 (LSTM)                  [(None, None, 256),  367616      ['input_2[0][0]',                \n",
            "                                 (None, 256),                     'lstm[0][1]',                   \n",
            "                                 (None, 256)]                     'lstm[0][2]']                   \n",
            "                                                                                                  \n",
            " dense (Dense)                  (None, None, 102)    26214       ['lstm_1[0][0]']                 \n",
            "                                                                                                  \n",
            "==================================================================================================\n",
            "Total params: 732,774\n",
            "Trainable params: 732,774\n",
            "Non-trainable params: 0\n",
            "__________________________________________________________________________________________________\n"
          ]
        }
      ]
    },
    {
      "cell_type": "code",
      "metadata": {
        "colab": {
          "base_uri": "https://localhost:8080/"
        },
        "id": "ADPWd1gdW2Au",
        "outputId": "f6c9a6c7-a146-4372-da85-a970346ed907"
      },
      "source": [
        "print(\"encoder_in_data shape:\",encoder_in_data.shape)\n",
        "print(\"decoder_in_data shape:\",decoder_in_data.shape)\n",
        "print(\"decoder_target_data shape:\",decoder_target_data.shape)"
      ],
      "execution_count": null,
      "outputs": [
        {
          "output_type": "stream",
          "name": "stdout",
          "text": [
            "encoder_in_data shape: (20000, 19, 74)\n",
            "decoder_in_data shape: (20000, 59, 102)\n",
            "decoder_target_data shape: (20000, 59, 102)\n"
          ]
        }
      ]
    },
    {
      "cell_type": "code",
      "metadata": {
        "colab": {
          "base_uri": "https://localhost:8080/"
        },
        "id": "fvnSCIjYW8pk",
        "outputId": "b3244cdb-f85b-4854-8a54-ddc6cd8d6dde"
      },
      "source": [
        "model.compile(optimizer=Adam(lr=0.01, beta_1=0.9, beta_2=0.999, decay=0.001), loss='categorical_crossentropy')\n",
        "\n",
        "model.fit([encoder_in_data, decoder_in_data], decoder_target_data, batch_size = batch_size, epochs=51, validation_split=0.2)"
      ],
      "execution_count": null,
      "outputs": [
        {
          "output_type": "stream",
          "name": "stderr",
          "text": [
            "/usr/local/lib/python3.7/dist-packages/keras/optimizer_v2/adam.py:105: UserWarning: The `lr` argument is deprecated, use `learning_rate` instead.\n",
            "  super(Adam, self).__init__(name, **kwargs)\n"
          ]
        },
        {
          "output_type": "stream",
          "name": "stdout",
          "text": [
            "Epoch 1/51\n",
            "250/250 [==============================] - 90s 350ms/step - loss: 0.7294 - val_loss: 0.7581\n",
            "Epoch 2/51\n",
            "250/250 [==============================] - 87s 349ms/step - loss: 0.5957 - val_loss: 0.7112\n",
            "Epoch 3/51\n",
            "250/250 [==============================] - 87s 347ms/step - loss: 0.5662 - val_loss: 0.6962\n",
            "Epoch 4/51\n",
            "250/250 [==============================] - 88s 351ms/step - loss: 0.5487 - val_loss: 0.6700\n",
            "Epoch 5/51\n",
            "250/250 [==============================] - 88s 352ms/step - loss: 0.5289 - val_loss: 0.6537\n",
            "Epoch 6/51\n",
            "250/250 [==============================] - 87s 350ms/step - loss: 0.5141 - val_loss: 0.6416\n",
            "Epoch 7/51\n",
            "250/250 [==============================] - 87s 349ms/step - loss: 0.6763 - val_loss: 0.8033\n",
            "Epoch 8/51\n",
            "250/250 [==============================] - 87s 349ms/step - loss: 0.6093 - val_loss: 0.7242\n",
            "Epoch 9/51\n",
            "250/250 [==============================] - 87s 350ms/step - loss: 0.6531 - val_loss: 0.7534\n",
            "Epoch 10/51\n",
            "250/250 [==============================] - 88s 352ms/step - loss: 0.5864 - val_loss: 0.7103\n",
            "Epoch 11/51\n",
            "250/250 [==============================] - 88s 351ms/step - loss: 0.5585 - val_loss: 0.6873\n",
            "Epoch 12/51\n",
            "250/250 [==============================] - 88s 351ms/step - loss: 0.5392 - val_loss: 0.6688\n",
            "Epoch 13/51\n",
            "250/250 [==============================] - 87s 350ms/step - loss: 0.5244 - val_loss: 0.6571\n",
            "Epoch 14/51\n",
            "250/250 [==============================] - 87s 349ms/step - loss: 0.5133 - val_loss: 0.6482\n",
            "Epoch 15/51\n",
            "250/250 [==============================] - 88s 351ms/step - loss: 0.5046 - val_loss: 0.6424\n",
            "Epoch 16/51\n",
            "250/250 [==============================] - 87s 350ms/step - loss: 0.4964 - val_loss: 0.6358\n",
            "Epoch 17/51\n",
            "250/250 [==============================] - 87s 348ms/step - loss: 0.4932 - val_loss: 0.6435\n",
            "Epoch 18/51\n",
            "250/250 [==============================] - 87s 349ms/step - loss: 0.4961 - val_loss: 0.6347\n",
            "Epoch 19/51\n",
            "250/250 [==============================] - 88s 351ms/step - loss: 0.4852 - val_loss: 0.6266\n",
            "Epoch 20/51\n",
            "250/250 [==============================] - 88s 351ms/step - loss: 0.4778 - val_loss: 0.6219\n",
            "Epoch 21/51\n",
            "250/250 [==============================] - 88s 351ms/step - loss: 0.4706 - val_loss: 0.6189\n",
            "Epoch 22/51\n",
            "250/250 [==============================] - 87s 350ms/step - loss: 0.4647 - val_loss: 0.6124\n",
            "Epoch 23/51\n",
            "250/250 [==============================] - 88s 351ms/step - loss: 0.4587 - val_loss: 0.6086\n",
            "Epoch 24/51\n",
            "250/250 [==============================] - 88s 351ms/step - loss: 0.4528 - val_loss: 0.6045\n",
            "Epoch 25/51\n",
            "250/250 [==============================] - 88s 351ms/step - loss: 0.4472 - val_loss: 0.6009\n",
            "Epoch 26/51\n",
            "250/250 [==============================] - 88s 353ms/step - loss: 0.4418 - val_loss: 0.5970\n",
            "Epoch 27/51\n",
            "250/250 [==============================] - 88s 352ms/step - loss: 0.4361 - val_loss: 0.5937\n",
            "Epoch 28/51\n",
            "250/250 [==============================] - 88s 353ms/step - loss: 0.4310 - val_loss: 0.5941\n",
            "Epoch 29/51\n",
            "250/250 [==============================] - 88s 351ms/step - loss: 0.4267 - val_loss: 0.5898\n",
            "Epoch 30/51\n",
            "250/250 [==============================] - 88s 352ms/step - loss: 0.4236 - val_loss: 0.5891\n",
            "Epoch 31/51\n",
            "250/250 [==============================] - 89s 354ms/step - loss: 0.4187 - val_loss: 0.5850\n",
            "Epoch 32/51\n",
            "250/250 [==============================] - 88s 351ms/step - loss: 0.4143 - val_loss: 0.5839\n",
            "Epoch 33/51\n",
            "250/250 [==============================] - 88s 353ms/step - loss: 0.4102 - val_loss: 0.5832\n",
            "Epoch 34/51\n",
            "250/250 [==============================] - 89s 355ms/step - loss: 0.4066 - val_loss: 0.5812\n",
            "Epoch 35/51\n",
            "250/250 [==============================] - 89s 354ms/step - loss: 0.4027 - val_loss: 0.5803\n",
            "Epoch 36/51\n",
            "250/250 [==============================] - 89s 356ms/step - loss: 0.3989 - val_loss: 0.5787\n",
            "Epoch 37/51\n",
            "250/250 [==============================] - 88s 354ms/step - loss: 0.3955 - val_loss: 0.5775\n",
            "Epoch 38/51\n",
            "250/250 [==============================] - 88s 354ms/step - loss: 0.3919 - val_loss: 0.5769\n",
            "Epoch 39/51\n",
            "250/250 [==============================] - 88s 353ms/step - loss: 0.3891 - val_loss: 0.5774\n",
            "Epoch 40/51\n",
            "250/250 [==============================] - 89s 356ms/step - loss: 0.3856 - val_loss: 0.5761\n",
            "Epoch 41/51\n",
            "250/250 [==============================] - 88s 352ms/step - loss: 0.3826 - val_loss: 0.5760\n",
            "Epoch 42/51\n",
            "250/250 [==============================] - 88s 354ms/step - loss: 0.3802 - val_loss: 0.5761\n",
            "Epoch 43/51\n",
            "250/250 [==============================] - 88s 354ms/step - loss: 0.3770 - val_loss: 0.5753\n",
            "Epoch 44/51\n",
            "250/250 [==============================] - 90s 358ms/step - loss: 0.3742 - val_loss: 0.5751\n",
            "Epoch 45/51\n",
            "250/250 [==============================] - 89s 356ms/step - loss: 0.3715 - val_loss: 0.5758\n",
            "Epoch 46/51\n",
            "250/250 [==============================] - 89s 357ms/step - loss: 0.3693 - val_loss: 0.5751\n",
            "Epoch 47/51\n",
            "250/250 [==============================] - 89s 357ms/step - loss: 0.3666 - val_loss: 0.5753\n",
            "Epoch 48/51\n",
            "250/250 [==============================] - 89s 356ms/step - loss: 0.3648 - val_loss: 0.5752\n",
            "Epoch 49/51\n",
            "250/250 [==============================] - 89s 356ms/step - loss: 0.3620 - val_loss: 0.5745\n",
            "Epoch 50/51\n",
            "250/250 [==============================] - 89s 358ms/step - loss: 0.3597 - val_loss: 0.5750\n",
            "Epoch 51/51\n",
            "250/250 [==============================] - 87s 348ms/step - loss: 0.3574 - val_loss: 0.5787\n"
          ]
        },
        {
          "output_type": "execute_result",
          "data": {
            "text/plain": [
              "<keras.callbacks.History at 0x7fbcb0030d10>"
            ]
          },
          "metadata": {},
          "execution_count": 14
        }
      ]
    },
    {
      "cell_type": "code",
      "metadata": {
        "id": "ja68vI44W_mR"
      },
      "source": [
        "encoder_model = Model(encoder_inputs, encoder_states)\n",
        "decoder_state_input_h = Input(shape=(latent_dim,))\n",
        "decoder_state_input_c = Input(shape=(latent_dim,))\n",
        "decoder_states_inputs = [decoder_state_input_h, decoder_state_input_c]\n",
        "decoder_outputs, state_h, state_c = decoder_lstm(decoder_inputs, initial_state=decoder_states_inputs)\n",
        "decoder_states = [state_h, state_c]\n",
        "decoder_outputs = decoder_dense(decoder_outputs)\n",
        "decoder_model = Model([decoder_inputs] + decoder_states_inputs, [decoder_outputs] + decoder_states)"
      ],
      "execution_count": null,
      "outputs": []
    },
    {
      "cell_type": "code",
      "metadata": {
        "id": "sCDEwJ_dY5Ka"
      },
      "source": [
        "reverse_input_char_index = dict((i, char) for char, i in input_token_id.items())\n",
        "reverse_target_char_index = dict((i, char) for char, i in target_token_id.items())\n",
        "\n",
        "\n",
        "def decode_sequence(input_seq):\n",
        "   \n",
        "    states_value = encoder_model.predict(input_seq)\n",
        "\n",
        "    \n",
        "    target_seq = np.zeros((1, 1, num_decoder_tokens))\n",
        "    \n",
        "    target_seq[0, 0, target_token_id['\\t']] = 1.\n",
        "\n",
        "    stop_condition = False\n",
        "    decoded_sentence = ''\n",
        "    while not stop_condition:\n",
        "        output_tokens, h, c = decoder_model.predict([target_seq] + states_value)\n",
        "\n",
        "        sampled_token_index = np.argmax(output_tokens[0, -1, :])\n",
        "        sampled_char = reverse_target_char_index[sampled_token_index]\n",
        "        decoded_sentence += sampled_char\n",
        "\n",
        "        if (sampled_char == '\\n' or\n",
        "           len(decoded_sentence) > max_decoder_seq_length):\n",
        "            stop_condition = True\n",
        "\n",
        "        target_seq = np.zeros((1, 1, num_decoder_tokens))\n",
        "        target_seq[0, 0, sampled_token_index] = 1.\n",
        "\n",
        "        states_value = [h, c]\n",
        "\n",
        "    return decoded_sentence"
      ],
      "execution_count": null,
      "outputs": []
    },
    {
      "cell_type": "code",
      "metadata": {
        "colab": {
          "base_uri": "https://localhost:8080/"
        },
        "id": "mxzzXqZNY8sz",
        "outputId": "a27e124b-35e4-412e-dbe1-720aa36d76dd"
      },
      "source": [
        "for seq_index in range(10):\n",
        "    input_seq = encoder_in_data[seq_index: seq_index + 1]\n",
        "    decoded_sentence = decode_sequence(input_seq)\n",
        "    print('-')\n",
        "    print('Input sentence:', input_texts[seq_index])\n",
        "    print('Decoded sentence:', decoded_sentence)"
      ],
      "execution_count": null,
      "outputs": [
        {
          "output_type": "stream",
          "name": "stdout",
          "text": [
            "-\n",
            "Input sentence: Go.\n",
            "Decoded sentence: Va der coureux.\n",
            "\n",
            "-\n",
            "Input sentence: Run!\n",
            "Decoded sentence: Courez ?\n",
            "\n",
            "-\n",
            "Input sentence: Run!\n",
            "Decoded sentence: Courez ?\n",
            "\n",
            "-\n",
            "Input sentence: Wow!\n",
            "Decoded sentence: Varaide.\n",
            "\n",
            "-\n",
            "Input sentence: Fire!\n",
            "Decoded sentence: Au feur.\n",
            "\n",
            "-\n",
            "Input sentence: Help!\n",
            "Decoded sentence: Aiendez !\n",
            "\n",
            "-\n",
            "Input sentence: Jump.\n",
            "Decoded sentence: Vour ?\n",
            "\n",
            "-\n",
            "Input sentence: Stop!\n",
            "Decoded sentence: Arrête-toi.\n",
            "\n",
            "-\n",
            "Input sentence: Stop!\n",
            "Decoded sentence: Arrête-toi.\n",
            "\n",
            "-\n",
            "Input sentence: Stop!\n",
            "Decoded sentence: Arrête-toi.\n",
            "\n"
          ]
        }
      ]
    },
    {
      "cell_type": "code",
      "metadata": {
        "id": "kfjhkVioY_Ha"
      },
      "source": [
        ""
      ],
      "execution_count": null,
      "outputs": []
    }
  ]
}